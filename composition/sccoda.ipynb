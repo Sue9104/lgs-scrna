{
 "cells": [
  {
   "cell_type": "code",
   "execution_count": 1,
   "id": "02c2a16e-ad87-46fb-b636-0a223830244f",
   "metadata": {},
   "outputs": [
    {
     "name": "stderr",
     "output_type": "stream",
     "text": [
      "2023-08-11 22:29:58.016807: I tensorflow/core/util/port.cc:110] oneDNN custom operations are on. You may see slightly different numerical results due to floating-point round-off errors from different computation orders. To turn them off, set the environment variable `TF_ENABLE_ONEDNN_OPTS=0`.\n",
      "2023-08-11 22:29:58.089696: I tensorflow/core/platform/cpu_feature_guard.cc:182] This TensorFlow binary is optimized to use available CPU instructions in performance-critical operations.\n",
      "To enable the following instructions: AVX2 AVX512F AVX512_VNNI FMA, in other operations, rebuild TensorFlow with the appropriate compiler flags.\n",
      "2023-08-11 22:29:58.854730: W tensorflow/compiler/tf2tensorrt/utils/py_utils.cc:38] TF-TRT Warning: Could not find TensorRT\n"
     ]
    },
    {
     "name": "stdout",
     "output_type": "stream",
     "text": [
      "Unexpected exception formatting exception. Falling back to standard exception\n"
     ]
    },
    {
     "name": "stderr",
     "output_type": "stream",
     "text": [
      "OpenBLAS blas_thread_init: pthread_create failed for thread 14 of 40: Resource temporarily unavailable\n",
      "OpenBLAS blas_thread_init: RLIMIT_NPROC 4096 current, 1030277 max\n",
      "OpenBLAS blas_thread_init: pthread_create failed for thread 15 of 40: Resource temporarily unavailable\n",
      "OpenBLAS blas_thread_init: RLIMIT_NPROC 4096 current, 1030277 max\n",
      "OpenBLAS blas_thread_init: pthread_create failed for thread 16 of 40: Resource temporarily unavailable\n",
      "OpenBLAS blas_thread_init: RLIMIT_NPROC 4096 current, 1030277 max\n",
      "OpenBLAS blas_thread_init: pthread_create failed for thread 17 of 40: Resource temporarily unavailable\n",
      "OpenBLAS blas_thread_init: RLIMIT_NPROC 4096 current, 1030277 max\n",
      "OpenBLAS blas_thread_init: pthread_create failed for thread 18 of 40: Resource temporarily unavailable\n",
      "OpenBLAS blas_thread_init: RLIMIT_NPROC 4096 current, 1030277 max\n",
      "OpenBLAS blas_thread_init: pthread_create failed for thread 19 of 40: Resource temporarily unavailable\n",
      "OpenBLAS blas_thread_init: RLIMIT_NPROC 4096 current, 1030277 max\n",
      "OpenBLAS blas_thread_init: pthread_create failed for thread 20 of 40: Resource temporarily unavailable\n",
      "OpenBLAS blas_thread_init: RLIMIT_NPROC 4096 current, 1030277 max\n",
      "OpenBLAS blas_thread_init: pthread_create failed for thread 21 of 40: Resource temporarily unavailable\n",
      "OpenBLAS blas_thread_init: RLIMIT_NPROC 4096 current, 1030277 max\n",
      "OpenBLAS blas_thread_init: pthread_create failed for thread 22 of 40: Resource temporarily unavailable\n",
      "OpenBLAS blas_thread_init: RLIMIT_NPROC 4096 current, 1030277 max\n",
      "OpenBLAS blas_thread_init: pthread_create failed for thread 23 of 40: Resource temporarily unavailable\n",
      "OpenBLAS blas_thread_init: RLIMIT_NPROC 4096 current, 1030277 max\n",
      "OpenBLAS blas_thread_init: pthread_create failed for thread 24 of 40: Resource temporarily unavailable\n",
      "OpenBLAS blas_thread_init: RLIMIT_NPROC 4096 current, 1030277 max\n",
      "OpenBLAS blas_thread_init: pthread_create failed for thread 25 of 40: Resource temporarily unavailable\n",
      "OpenBLAS blas_thread_init: RLIMIT_NPROC 4096 current, 1030277 max\n",
      "OpenBLAS blas_thread_init: pthread_create failed for thread 26 of 40: Resource temporarily unavailable\n",
      "OpenBLAS blas_thread_init: RLIMIT_NPROC 4096 current, 1030277 max\n",
      "OpenBLAS blas_thread_init: pthread_create failed for thread 27 of 40: Resource temporarily unavailable\n",
      "OpenBLAS blas_thread_init: RLIMIT_NPROC 4096 current, 1030277 max\n",
      "OpenBLAS blas_thread_init: pthread_create failed for thread 28 of 40: Resource temporarily unavailable\n",
      "OpenBLAS blas_thread_init: RLIMIT_NPROC 4096 current, 1030277 max\n",
      "OpenBLAS blas_thread_init: pthread_create failed for thread 29 of 40: Resource temporarily unavailable\n",
      "OpenBLAS blas_thread_init: RLIMIT_NPROC 4096 current, 1030277 max\n",
      "OpenBLAS blas_thread_init: pthread_create failed for thread 30 of 40: Resource temporarily unavailable\n",
      "OpenBLAS blas_thread_init: RLIMIT_NPROC 4096 current, 1030277 max\n",
      "OpenBLAS blas_thread_init: pthread_create failed for thread 31 of 40: Resource temporarily unavailable\n",
      "OpenBLAS blas_thread_init: RLIMIT_NPROC 4096 current, 1030277 max\n",
      "OpenBLAS blas_thread_init: pthread_create failed for thread 32 of 40: Resource temporarily unavailable\n",
      "OpenBLAS blas_thread_init: RLIMIT_NPROC 4096 current, 1030277 max\n",
      "OpenBLAS blas_thread_init: pthread_create failed for thread 33 of 40: Resource temporarily unavailable\n",
      "OpenBLAS blas_thread_init: RLIMIT_NPROC 4096 current, 1030277 max\n",
      "OpenBLAS blas_thread_init: pthread_create failed for thread 34 of 40: Resource temporarily unavailable\n",
      "OpenBLAS blas_thread_init: RLIMIT_NPROC 4096 current, 1030277 max\n",
      "OpenBLAS blas_thread_init: pthread_create failed for thread 35 of 40: Resource temporarily unavailable\n",
      "OpenBLAS blas_thread_init: RLIMIT_NPROC 4096 current, 1030277 max\n",
      "OpenBLAS blas_thread_init: pthread_create failed for thread 36 of 40: Resource temporarily unavailable\n",
      "OpenBLAS blas_thread_init: RLIMIT_NPROC 4096 current, 1030277 max\n",
      "OpenBLAS blas_thread_init: pthread_create failed for thread 37 of 40: Resource temporarily unavailable\n",
      "OpenBLAS blas_thread_init: RLIMIT_NPROC 4096 current, 1030277 max\n",
      "OpenBLAS blas_thread_init: pthread_create failed for thread 38 of 40: Resource temporarily unavailable\n",
      "OpenBLAS blas_thread_init: RLIMIT_NPROC 4096 current, 1030277 max\n",
      "OpenBLAS blas_thread_init: pthread_create failed for thread 39 of 40: Resource temporarily unavailable\n",
      "OpenBLAS blas_thread_init: RLIMIT_NPROC 4096 current, 1030277 max\n",
      "Traceback (most recent call last):\n",
      "  File \"/public/home/msu/miniconda3/envs/seq3/lib/python3.10/site-packages/IPython/core/interactiveshell.py\", line 3442, in run_code\n",
      "    exec(code_obj, self.user_global_ns, self.user_ns)\n",
      "  File \"/tmp/msu/ipykernel_70127/3596852095.py\", line 16, in <module>\n",
      "  File \"/public/home/msu/miniconda3/envs/seq3/lib/python3.10/site-packages/pertpy/__init__.py\", line 18, in <module>\n",
      "    from . import tools as tl\n",
      "  File \"/public/home/msu/miniconda3/envs/seq3/lib/python3.10/site-packages/pertpy/tools/__init__.py\", line 9, in <module>\n",
      "    from pertpy.tools._milo import Milo\n",
      "  File \"/public/home/msu/miniconda3/envs/seq3/lib/python3.10/site-packages/pertpy/tools/_milo.py\", line 15, in <module>\n",
      "    from rpy2.robjects import conversion, numpy2ri, pandas2ri\n",
      "  File \"/public/home/msu/miniconda3/envs/seq3/lib/python3.10/site-packages/rpy2/robjects/__init__.py\", line 15, in <module>\n",
      "    import rpy2.rinterface as rinterface\n",
      "  File \"/public/home/msu/miniconda3/envs/seq3/lib/python3.10/site-packages/rpy2/rinterface.py\", line 16, in <module>\n",
      "    from rpy2.rinterface_lib import openrlib\n",
      "  File \"/public/home/msu/miniconda3/envs/seq3/lib/python3.10/site-packages/rpy2/rinterface_lib/openrlib.py\", line 18, in <module>\n",
      "    import _rinterface_cffi_api as _rinterface_cffi  # type: ignore\n",
      "KeyboardInterrupt\n",
      "\n",
      "During handling of the above exception, another exception occurred:\n",
      "\n",
      "Traceback (most recent call last):\n",
      "  File \"/public/home/msu/miniconda3/envs/seq3/lib/python3.10/site-packages/executing/executing.py\", line 317, in executing\n",
      "    args = executing_cache[key]\n",
      "KeyError: (<code object run_code at 0x2ad59c4ec450, file \"/public/home/msu/miniconda3/envs/seq3/lib/python3.10/site-packages/IPython/core/interactiveshell.py\", line 3406>, 47096938808400, 76)\n",
      "\n",
      "During handling of the above exception, another exception occurred:\n",
      "\n",
      "Traceback (most recent call last):\n",
      "  File \"/public/home/msu/miniconda3/envs/seq3/lib/python3.10/site-packages/IPython/core/interactiveshell.py\", line 2057, in showtraceback\n",
      "    stb = self.InteractiveTB.structured_traceback(\n",
      "  File \"/public/home/msu/miniconda3/envs/seq3/lib/python3.10/site-packages/IPython/core/ultratb.py\", line 1118, in structured_traceback\n",
      "  File \"/public/home/msu/miniconda3/envs/seq3/lib/python3.10/site-packages/IPython/core/ultratb.py\", line 1012, in structured_traceback\n",
      "    return VerboseTB.structured_traceback(\n",
      "  File \"/public/home/msu/miniconda3/envs/seq3/lib/python3.10/site-packages/IPython/core/ultratb.py\", line 865, in structured_traceback\n",
      "    formatted_exception = self.format_exception_as_a_whole(etype, evalue, etb, number_of_lines_of_context,\n",
      "  File \"/public/home/msu/miniconda3/envs/seq3/lib/python3.10/site-packages/IPython/core/ultratb.py\", line 799, in format_exception_as_a_whole\n",
      "    self.get_records(etb, number_of_lines_of_context, tb_offset) if etb else []\n",
      "  File \"/public/home/msu/miniconda3/envs/seq3/lib/python3.10/site-packages/IPython/core/ultratb.py\", line 854, in get_records\n",
      "    return list(stack_data.FrameInfo.stack_data(etb, options=options))[tb_offset:]\n",
      "  File \"/public/home/msu/miniconda3/envs/seq3/lib/python3.10/site-packages/stack_data/core.py\", line 565, in stack_data\n",
      "    yield from collapse_repeated(\n",
      "  File \"/public/home/msu/miniconda3/envs/seq3/lib/python3.10/site-packages/stack_data/utils.py\", line 84, in collapse_repeated\n",
      "    yield from map(mapper, original_group)\n",
      "  File \"/public/home/msu/miniconda3/envs/seq3/lib/python3.10/site-packages/stack_data/core.py\", line 555, in mapper\n",
      "    return cls(f, options)\n",
      "  File \"/public/home/msu/miniconda3/envs/seq3/lib/python3.10/site-packages/stack_data/core.py\", line 520, in __init__\n",
      "    self.executing = Source.executing(frame_or_tb)\n",
      "  File \"/public/home/msu/miniconda3/envs/seq3/lib/python3.10/site-packages/executing/executing.py\", line 369, in executing\n",
      "    args = find(source=cls.for_frame(frame), retry_cache=True)\n",
      "  File \"/public/home/msu/miniconda3/envs/seq3/lib/python3.10/site-packages/executing/executing.py\", line 252, in for_frame\n",
      "    return cls.for_filename(frame.f_code.co_filename, frame.f_globals or {}, use_cache)\n",
      "  File \"/public/home/msu/miniconda3/envs/seq3/lib/python3.10/site-packages/executing/executing.py\", line 270, in for_filename\n",
      "    result = source_cache[filename] = cls._for_filename_and_lines(filename, lines)\n",
      "  File \"/public/home/msu/miniconda3/envs/seq3/lib/python3.10/site-packages/executing/executing.py\", line 281, in _for_filename_and_lines\n",
      "    result = source_cache[(filename, lines)] = cls(filename, lines)\n",
      "  File \"/public/home/msu/miniconda3/envs/seq3/lib/python3.10/site-packages/stack_data/core.py\", line 79, in __init__\n",
      "    super(Source, self).__init__(*args, **kwargs)\n",
      "  File \"/public/home/msu/miniconda3/envs/seq3/lib/python3.10/site-packages/executing/executing.py\", line 200, in __init__\n",
      "    text = ''.join(lines)\n",
      "MemoryError\n"
     ]
    }
   ],
   "source": [
    "import warnings\n",
    "\n",
    "import pandas as pd\n",
    "\n",
    "warnings.filterwarnings(\"ignore\")\n",
    "warnings.simplefilter(\"ignore\")\n",
    "\n",
    "import scanpy as sc\n",
    "import numpy as np\n",
    "import tensorflow as tf\n",
    "\n",
    "import matplotlib.pyplot as plt\n",
    "import matplotlib\n",
    "import seaborn as sns\n",
    "import altair as alt\n",
    "import pertpy as pt"
   ]
  },
  {
   "cell_type": "code",
   "execution_count": 3,
   "id": "e09d9409-1f6e-439f-a069-9f9dc807f168",
   "metadata": {},
   "outputs": [],
   "source": [
    "indir = \"/public/home/msu/projects/seq3/20230530/4_scrna/counts/6_rename_cluster/\"\n",
    "obj_isoform = \"{indir}/tgs-sc_isoforms/RIF.cluster.celltype_fine.h5ad\"\n",
    "obj_gene = \"{indir}/tgs-sc_isoforms/RIF.cluster.celltype_fine.h5ad\""
   ]
  },
  {
   "cell_type": "code",
   "execution_count": 9,
   "id": "70ed9db6-ace4-42ec-a3af-ff189d049842",
   "metadata": {},
   "outputs": [
    {
     "name": "stderr",
     "output_type": "stream",
     "text": [
      "/public/home/msu/miniconda3/envs/seq3/lib/python3.10/site-packages/anndata/compat/__init__.py:229: FutureWarning: Moving element from .uns['neighbors']['distances'] to .obsp['distances'].\n",
      "\n",
      "This is where adjacency matrices should go now.\n",
      "  warn(\n",
      "/public/home/msu/miniconda3/envs/seq3/lib/python3.10/site-packages/anndata/compat/__init__.py:229: FutureWarning: Moving element from .uns['neighbors']['distances'] to .obsp['distances'].\n",
      "\n",
      "This is where adjacency matrices should go now.\n",
      "  warn(\n"
     ]
    }
   ],
   "source": [
    "indir = \"/public/home/msu/projects/seq3/20230530/4_scrna/counts/6_rename_cluster/\"\n",
    "obj_isoform = f\"{indir}/tgs-sc_isoforms/RIF.cluster.celltype_fine.h5ad\"\n",
    "obj_gene = f\"{indir}/tgs-sc_genes/RIF.cluster.celltype_fine.h5ad\"\n",
    "data_isoform = scanpy.read_h5ad(obj_isoform)\n",
    "adta_gene = scanpy.read_h5ad(obj_gene)"
   ]
  },
  {
   "cell_type": "code",
   "execution_count": 7,
   "id": "d3928c18-2836-4c1d-ac59-285714fc120a",
   "metadata": {},
   "outputs": [
    {
     "data": {
      "text/plain": [
       "'/public/home/msu/projects/seq3/20230530/4_scrna/counts/6_rename_cluster//tgs-sc_isoforms/RIF.cluster.celltype_fine.h5ad'"
      ]
     },
     "execution_count": 7,
     "metadata": {},
     "output_type": "execute_result"
    }
   ],
   "source": [
    "sccoda_model = pt.tl.Sccoda()\n",
    "sccoda_data = sccoda_model.load(\n",
    "    adata_gene,\n",
    "    type=\"celltype_fine\",\n",
    "    generate_sample_level=True,\n",
    "    cell_type_identifier=\"cell_label\",\n",
    "    sample_identifier=\"batch\",\n",
    "    covariate_obs=[\"condition\"],\n",
    ")"
   ]
  },
  {
   "cell_type": "code",
   "execution_count": 10,
   "id": "d7041948-7d07-4775-9e87-a947019a0605",
   "metadata": {},
   "outputs": [
    {
     "ename": "NameError",
     "evalue": "name 'pt' is not defined",
     "output_type": "error",
     "traceback": [
      "\u001b[0;31m---------------------------------------------------------------------------\u001b[0m",
      "\u001b[0;31mNameError\u001b[0m                                 Traceback (most recent call last)",
      "Cell \u001b[0;32mIn[10], line 1\u001b[0m\n\u001b[0;32m----> 1\u001b[0m \u001b[43mpt\u001b[49m\u001b[38;5;241m.\u001b[39mtl\u001b[38;5;241m.\u001b[39mSccoda()\n",
      "\u001b[0;31mNameError\u001b[0m: name 'pt' is not defined"
     ]
    }
   ],
   "source": [
    "pt.tl.Sccoda()"
   ]
  }
 ],
 "metadata": {
  "kernelspec": {
   "display_name": "Python 3 (ipykernel)",
   "language": "python",
   "name": "python3"
  },
  "language_info": {
   "codemirror_mode": {
    "name": "ipython",
    "version": 3
   },
   "file_extension": ".py",
   "mimetype": "text/x-python",
   "name": "python",
   "nbconvert_exporter": "python",
   "pygments_lexer": "ipython3",
   "version": "3.10.8"
  }
 },
 "nbformat": 4,
 "nbformat_minor": 5
}
